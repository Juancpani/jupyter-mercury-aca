{
 "cells": [
  {
   "cell_type": "raw",
   "id": "8b7dfa35",
   "metadata": {},
   "source": [
    "---\n",
    "title: 🚀 Demo notebook\n",
    "description: Simple notebook with widgets demo\n",
    "params:\n",
    "    year:\n",
    "        input: slider\n",
    "        label: Please select the year\n",
    "        min: 2000\n",
    "        max: 2100\n",
    "        value: 2022\n",
    "    greetings:\n",
    "        input: select\n",
    "        label: Please select greetings\n",
    "        value: Hello\n",
    "        choices: [Cześć, Hello, Hi, Ciao, Salut]\n",
    "    name:\n",
    "        input: text\n",
    "        label: What is your name?\n",
    "        value: Piotr\n",
    "    ---"
   ]
  },
  {
   "cell_type": "markdown",
   "id": "b7f48155",
   "metadata": {},
   "source": [
    "# 🚀 Demo notebook with greetings 👋"
   ]
  },
  {
   "cell_type": "code",
   "execution_count": null,
   "id": "483e98a1",
   "metadata": {},
   "outputs": [],
   "source": [
    "year = 2022\n",
    "greetings = \"Hello\"\n",
    "name = \"Piotr\""
   ]
  },
  {
   "cell_type": "code",
   "execution_count": null,
   "id": "fc3794e7",
   "metadata": {},
   "outputs": [],
   "source": [
    "print(f\"{greetings} {name} in {year}\")"
   ]
  }
 ],
 "metadata": {
  "kernelspec": {
   "display_name": ".venv",
   "language": "python",
   "name": "python3"
  },
  "language_info": {
   "name": "python",
   "version": "3.10.7 (main, Sep  5 2022, 13:12:31) [GCC 11.2.0]"
  },
  "vscode": {
   "interpreter": {
    "hash": "f9e7308fc5d19897a2533fdd87ba5c4bde301ed4e3c59178ae71dbbc02457f08"
   }
  }
 },
 "nbformat": 4,
 "nbformat_minor": 5
}
